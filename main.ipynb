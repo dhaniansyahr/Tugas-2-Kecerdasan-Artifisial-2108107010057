{
 "cells": [
  {
   "cell_type": "code",
   "execution_count": 10,
   "metadata": {},
   "outputs": [],
   "source": [
    "import tensorflow as tf\n",
    "from tensorflow.keras.preprocessing.sequence import pad_sequences\n",
    "from tensorflow.keras.layers import Embedding, LSTM, Dense, Bidirectional\n",
    "from tensorflow.keras.preprocessing.text import Tokenizer\n",
    "from tensorflow.keras.models import Sequential\n",
    "from tensorflow.keras.optimizers import Adam\n",
    "from tensorflow.keras.preprocessing.text import Tokenizer\n",
    "from tensorflow.keras.preprocessing.sequence import pad_sequences\n",
    "import numpy as np\n",
    "import pandas as pd\n",
    "import re\n",
    "import matplotlib.pyplot as plt"
   ]
  },
  {
   "cell_type": "code",
   "execution_count": 13,
   "metadata": {},
   "outputs": [],
   "source": [
    "file_path = 'TheSocialDilemma.csv'\n",
    "data = pd.read_csv(file_path)\n",
    "# data = data[['text', 'Sentiment']]\n",
    "# data.head()"
   ]
  },
  {
   "cell_type": "code",
   "execution_count": 14,
   "metadata": {},
   "outputs": [
    {
     "name": "stdout",
     "output_type": "stream",
     "text": [
      "<class 'pandas.core.frame.DataFrame'>\n",
      "RangeIndex: 18252 entries, 0 to 18251\n",
      "Data columns (total 14 columns):\n",
      " #   Column            Non-Null Count  Dtype \n",
      "---  ------            --------------  ----- \n",
      " 0   user_name         18251 non-null  object\n",
      " 1   user_location     14465 non-null  object\n",
      " 2   user_description  16998 non-null  object\n",
      " 3   user_created      18252 non-null  object\n",
      " 4   user_followers    18252 non-null  int64 \n",
      " 5   user_friends      18252 non-null  int64 \n",
      " 6   user_favourites   18252 non-null  int64 \n",
      " 7   user_verified     18252 non-null  bool  \n",
      " 8   date              18252 non-null  object\n",
      " 9   text              18252 non-null  object\n",
      " 10  hashtags          14377 non-null  object\n",
      " 11  source            18252 non-null  object\n",
      " 12  is_retweet        18252 non-null  bool  \n",
      " 13  Sentiment         18252 non-null  object\n",
      "dtypes: bool(2), int64(3), object(9)\n",
      "memory usage: 1.7+ MB\n"
     ]
    }
   ],
   "source": [
    "data.info()"
   ]
  },
  {
   "cell_type": "code",
   "execution_count": 16,
   "metadata": {},
   "outputs": [
    {
     "name": "stdout",
     "output_type": "stream",
     "text": [
      "X_train shape: (14601,)\n",
      "y_train shape: (14601,)\n",
      "X_test shape: (3651,)\n",
      "y_test shape: (3651,)\n",
      "Length of text: 14601 characters\n",
      "Max tweet length: 144\n",
      "Min tweet length: 0\n",
      "Average tweet length: 93.68129520052597\n"
     ]
    }
   ],
   "source": [
    "data = data[['text', 'Sentiment']]\n",
    "data.head()\n",
    "\n",
    "def clean_text(text):\n",
    "  text = text.lower()\n",
    "  text = re.sub('\\[.*?\\]', '', text)\n",
    "  text = re.sub('https?://\\S+|www\\.\\S+', '', text)\n",
    "  text = re.sub('\\n', '', text)\n",
    "  text = \" \".join(filter(lambda x:x[0]!=\"@\", text.split()))\n",
    "  return text\n",
    "data['text'] = data['text'].apply(lambda x: clean_text(x))\n",
    "\n",
    "X = data['text']\n",
    "y = data['Sentiment'].map({'Negative':0, 'Neutral':1, 'Positive':2})\n",
    "\n",
    "train_size = int(len(data)*0.8)\n",
    "X_train, y_train = X[:train_size], y[:train_size]\n",
    "X_test, y_test = X[train_size:], y[train_size:]\n",
    "print(\"X_train shape:\", X_train.shape)\n",
    "print(\"y_train shape:\", y_train.shape)\n",
    "print(\"X_test shape:\", X_test.shape)\n",
    "print(\"y_test shape:\", y_test.shape)\n",
    "\n",
    "print ('Length of text: {} characters'.format(len(X_train)))\n",
    "\n",
    "print(\"Max tweet length:\", X.map(len).max())\n",
    "print(\"Min tweet length:\", X.map(len).min())\n",
    "print(\"Average tweet length:\", X.map(len).mean())"
   ]
  },
  {
   "cell_type": "code",
   "execution_count": 3,
   "metadata": {},
   "outputs": [
    {
     "name": "stdout",
     "output_type": "stream",
     "text": [
      "Shape of train_padded: (14601, 90)\n",
      "Shape of test_padded: (3651, 90)\n"
     ]
    }
   ],
   "source": [
    "vocab_size = 8000\n",
    "embedding_dim = 32\n",
    "max_length = 90\n",
    "tokenizer = Tokenizer(vocab_size)\n",
    "tokenizer.fit_on_texts(X_train)\n",
    "word_index = tokenizer.word_index\n",
    "\n",
    "train_sequences = tokenizer.texts_to_sequences(X_train)\n",
    "train_padded = pad_sequences(train_sequences, maxlen=max_length, padding='pre', truncating='pre')\n",
    "test_sequences = tokenizer.texts_to_sequences(X_test)\n",
    "test_padded = pad_sequences(test_sequences, maxlen=max_length, padding='pre', truncating='pre')\n",
    "\n",
    "print(\"Shape of train_padded:\", train_padded.shape)\n",
    "print(\"Shape of test_padded:\", test_padded.shape)"
   ]
  },
  {
   "cell_type": "code",
   "execution_count": 37,
   "metadata": {},
   "outputs": [],
   "source": [
    "# Fungsi Untuk Menghitung jumllah Hidden Node\n",
    "def count_hidden_nodes(model):\n",
    "    hidden_nodes = 0\n",
    "\n",
    "    for layer in model.layers:\n",
    "        if isinstance(layer, Dense):\n",
    "            hidden_nodes += layer.units\n",
    "            print(\"Jumlah Node Pada \", layer.name, \" : \", layer.units)\n",
    "        elif isinstance(layer, LSTM):\n",
    "            hidden_nodes += layer.units\n",
    "            print(\"Jumlah Node Pada \", layer.name, \" : \", layer.units)\n",
    "        \n",
    "        # print(\"Embedding layer has no 'units' attribute\")\n",
    "\n",
    "    return hidden_nodes"
   ]
  },
  {
   "cell_type": "code",
   "execution_count": 38,
   "metadata": {},
   "outputs": [],
   "source": [
    "# Fungsi untuk menghitung Total Weight\n",
    "def count_total_weights(model):\n",
    "    total_weights = 0\n",
    "\n",
    "    for layer in model.layers:\n",
    "        if hasattr(layer, 'get_weights'):\n",
    "            weights = layer.get_weights()\n",
    "            if weights:\n",
    "                total_weights += sum(w.size for w in weights)\n",
    "\n",
    "    return total_weights"
   ]
  },
  {
   "cell_type": "code",
   "execution_count": 43,
   "metadata": {},
   "outputs": [
    {
     "name": "stdout",
     "output_type": "stream",
     "text": [
      "Model: \"sequential_2\"\n",
      "_________________________________________________________________\n",
      " Layer (type)                Output Shape              Param #   \n",
      "=================================================================\n",
      " embedding_2 (Embedding)     (None, 90, 32)            256000    \n",
      "                                                                 \n",
      " lstm_2 (LSTM)               (None, 100)               53200     \n",
      "                                                                 \n",
      " dense_4 (Dense)             (None, 45)                4545      \n",
      "                                                                 \n",
      " dropout_2 (Dropout)         (None, 45)                0         \n",
      "                                                                 \n",
      " dense_5 (Dense)             (None, 3)                 138       \n",
      "                                                                 \n",
      "=================================================================\n",
      "Total params: 313883 (1.20 MB)\n",
      "Trainable params: 313883 (1.20 MB)\n",
      "Non-trainable params: 0 (0.00 Byte)\n",
      "_________________________________________________________________\n",
      "Epoch 1/10\n",
      "457/457 [==============================] - 18s 37ms/step - loss: 0.6890 - accuracy: 0.7394 - val_loss: 0.3837 - val_accuracy: 0.8699\n",
      "Epoch 2/10\n",
      "457/457 [==============================] - 17s 38ms/step - loss: 0.2851 - accuracy: 0.9191 - val_loss: 0.2646 - val_accuracy: 0.9236\n",
      "Epoch 3/10\n",
      "457/457 [==============================] - 17s 38ms/step - loss: 0.1830 - accuracy: 0.9542 - val_loss: 0.2624 - val_accuracy: 0.9389\n",
      "Epoch 4/10\n",
      "457/457 [==============================] - 18s 39ms/step - loss: 0.1419 - accuracy: 0.9668 - val_loss: 0.3415 - val_accuracy: 0.9337\n",
      "Epoch 5/10\n",
      "457/457 [==============================] - 17s 37ms/step - loss: 0.1169 - accuracy: 0.9743 - val_loss: 0.3052 - val_accuracy: 0.9340\n",
      "Epoch 6/10\n",
      "457/457 [==============================] - 18s 40ms/step - loss: 0.0950 - accuracy: 0.9797 - val_loss: 0.3673 - val_accuracy: 0.9315\n",
      "Epoch 7/10\n",
      "457/457 [==============================] - 18s 39ms/step - loss: 0.0803 - accuracy: 0.9841 - val_loss: 0.4212 - val_accuracy: 0.9260\n",
      "Epoch 8/10\n",
      "457/457 [==============================] - 17s 38ms/step - loss: 0.0641 - accuracy: 0.9865 - val_loss: 0.5606 - val_accuracy: 0.9302\n",
      "Epoch 9/10\n",
      "457/457 [==============================] - 18s 40ms/step - loss: 0.0570 - accuracy: 0.9884 - val_loss: 0.5636 - val_accuracy: 0.9170\n",
      "Epoch 10/10\n",
      "457/457 [==============================] - 18s 40ms/step - loss: 0.0487 - accuracy: 0.9904 - val_loss: 0.5160 - val_accuracy: 0.9269\n"
     ]
    }
   ],
   "source": [
    "# Untuk Melakukan Eksekusi Layer secara berurutan\n",
    "model = Sequential([\n",
    "                    tf.keras.layers.Embedding(vocab_size, embedding_dim, input_length=max_length),\n",
    "                    tf.keras.layers.LSTM(100),\n",
    "                    tf.keras.layers.Dense(max_length/2, activation='relu', kernel_regularizer=tf.keras.regularizers.l2(0.001)),\n",
    "                    tf.keras.layers.Dropout(0.4),\n",
    "                    tf.keras.layers.Dense(3, activation='softmax')\n",
    "])\n",
    "model.summary()\n",
    "\n",
    "lr_schedule = tf.keras.optimizers.schedules.ExponentialDecay(\n",
    "    0.01,\n",
    "    decay_steps=10000,\n",
    "    decay_rate=0.95,\n",
    "    staircase=True\n",
    ")\n",
    "\n",
    "model.compile(optimizer=tf.keras.optimizers.RMSprop(learning_rate = lr_schedule),\n",
    "              loss='sparse_categorical_crossentropy',\n",
    "              metrics=['accuracy'])\n",
    "\n",
    "history = model.fit(train_padded, y_train, epochs=10, validation_data=(test_padded, y_test))"
   ]
  },
  {
   "cell_type": "code",
   "execution_count": 44,
   "metadata": {},
   "outputs": [
    {
     "name": "stdout",
     "output_type": "stream",
     "text": [
      "Jumlah Node Pada  lstm_2  :  100\n",
      "Jumlah Node Pada  dense_4  :  45\n",
      "Jumlah Node Pada  dense_5  :  3\n",
      "Total Hidden Nodes : 148\n"
     ]
    }
   ],
   "source": [
    "# Count hidden nodes\n",
    "hidden_nodes_count = count_hidden_nodes(model)\n",
    "print(f'Total Hidden Nodes : {hidden_nodes_count}')"
   ]
  },
  {
   "cell_type": "code",
   "execution_count": 45,
   "metadata": {},
   "outputs": [
    {
     "name": "stdout",
     "output_type": "stream",
     "text": [
      "Total Trainable Weights : 313883\n"
     ]
    }
   ],
   "source": [
    "# Count total weights\n",
    "total_weights_count = count_total_weights(model)\n",
    "print(f'Total Trainable Weights : {total_weights_count}')\n"
   ]
  },
  {
   "cell_type": "code",
   "execution_count": 46,
   "metadata": {},
   "outputs": [
    {
     "name": "stderr",
     "output_type": "stream",
     "text": [
      "/home/meone/.local/lib/python3.10/site-packages/keras/src/engine/training.py:3103: UserWarning: You are saving your model as an HDF5 file via `model.save()`. This file format is considered legacy. We recommend using instead the native Keras format, e.g. `model.save('my_model.keras')`.\n",
      "  saving_api.save_model(\n"
     ]
    }
   ],
   "source": [
    "# Model Saved\n",
    "model.save('tweet_dilema.h5')"
   ]
  },
  {
   "cell_type": "code",
   "execution_count": 47,
   "metadata": {},
   "outputs": [],
   "source": [
    "from tensorflow.keras.models import load_model\n",
    "\n",
    "# Load the model\n",
    "loaded_model = load_model('tweet_dilema.h5')\n"
   ]
  },
  {
   "cell_type": "code",
   "execution_count": 48,
   "metadata": {},
   "outputs": [
    {
     "name": "stdout",
     "output_type": "stream",
     "text": [
      "Accuracy: 99.376756\n"
     ]
    }
   ],
   "source": [
    "loss, accuracy = model.evaluate(train_padded, y_train, verbose = 0)\n",
    "print('Accuracy: %f' % (accuracy*100))"
   ]
  },
  {
   "cell_type": "code",
   "execution_count": 49,
   "metadata": {},
   "outputs": [
    {
     "data": {
      "image/png": "[encoded data removed]",
      "text/plain": [
       "<Figure size 640x480 with 1 Axes>"
      ]
     },
     "metadata": {},
     "output_type": "display_data"
    }
   ],
   "source": [
    "# Loss graph\n",
    "plt.style.use('dark_background')\n",
    "plt.plot(history.history['loss'])\n",
    "plt.plot(history.history['val_loss'])\n",
    "\n",
    "plt.title('Model loss')\n",
    "plt.xlabel('Epoch')\n",
    "plt.legend(['Training', 'Validation'], loc = 'upper right')\n",
    "plt.show()"
   ]
  },
  {
   "cell_type": "code",
   "execution_count": 50,
   "metadata": {},
   "outputs": [
    {
     "name": "stdout",
     "output_type": "stream",
     "text": [
      "Epoch 1/10\n",
      "457/457 [==============================] - 18s 39ms/step - loss: 0.0446 - accuracy: 0.9913 - val_loss: 0.6101 - val_accuracy: 0.9236\n",
      "Epoch 2/10\n",
      "457/457 [==============================] - 17s 38ms/step - loss: 0.0408 - accuracy: 0.9921 - val_loss: 0.6004 - val_accuracy: 0.9093\n",
      "Epoch 3/10\n",
      "457/457 [==============================] - 18s 38ms/step - loss: 0.0315 - accuracy: 0.9933 - val_loss: 0.7386 - val_accuracy: 0.9263\n",
      "Epoch 4/10\n",
      "457/457 [==============================] - 18s 39ms/step - loss: 0.0326 - accuracy: 0.9947 - val_loss: 0.6514 - val_accuracy: 0.9167\n",
      "Epoch 5/10\n",
      "457/457 [==============================] - 18s 39ms/step - loss: 0.0295 - accuracy: 0.9943 - val_loss: 0.7264 - val_accuracy: 0.9247\n",
      "Epoch 6/10\n",
      "457/457 [==============================] - 18s 39ms/step - loss: 0.0265 - accuracy: 0.9950 - val_loss: 0.7950 - val_accuracy: 0.9099\n",
      "Epoch 7/10\n",
      "457/457 [==============================] - 18s 39ms/step - loss: 0.0195 - accuracy: 0.9965 - val_loss: 0.8048 - val_accuracy: 0.9250\n",
      "Epoch 8/10\n",
      "457/457 [==============================] - 18s 39ms/step - loss: 0.0232 - accuracy: 0.9953 - val_loss: 0.7178 - val_accuracy: 0.9137\n",
      "Epoch 9/10\n",
      "457/457 [==============================] - 17s 38ms/step - loss: 0.0197 - accuracy: 0.9960 - val_loss: 0.7462 - val_accuracy: 0.9206\n",
      "Epoch 10/10\n",
      "457/457 [==============================] - 17s 38ms/step - loss: 0.0200 - accuracy: 0.9961 - val_loss: 0.8702 - val_accuracy: 0.9192\n"
     ]
    }
   ],
   "source": [
    "from keras.callbacks import TensorBoard\n",
    "import datetime\n",
    "log_dir = \"logs/fit/\" + datetime.datetime.now().strftime(\"%Y%m%d-%H%M%S\")\n",
    "tensorboard_callback = TensorBoard(log_dir=log_dir, histogram_freq=1)\n",
    "history = model.fit(train_padded, y_train, epochs=10, validation_data=(test_padded, y_test), callbacks=[tensorboard_callback])"
   ]
  },
  {
   "cell_type": "code",
   "execution_count": 51,
   "metadata": {},
   "outputs": [],
   "source": [
    "%load_ext tensorboard"
   ]
  },
  {
   "cell_type": "code",
   "execution_count": 52,
   "metadata": {},
   "outputs": [
    {
     "data": {
      "text/html": [
       "\n",
       "      <iframe id=\"tensorboard-frame-67747bd8f0089fbc\" width=\"100%\" height=\"800\" frameborder=\"0\">\n",
       "      </iframe>\n",
       "      <script>\n",
       "        (function() {\n",
       "          const frame = document.getElementById(\"tensorboard-frame-67747bd8f0089fbc\");\n",
       "          const url = new URL(\"/\", window.location);\n",
       "          const port = 6006;\n",
       "          if (port) {\n",
       "            url.port = port;\n",
       "          }\n",
       "          frame.src = url;\n",
       "        })();\n",
       "      </script>\n",
       "    "
      ],
      "text/plain": [
       "<IPython.core.display.HTML object>"
      ]
     },
     "metadata": {},
     "output_type": "display_data"
    }
   ],
   "source": [
    "%tensorboard --logdir logs/fit"
   ]
  },
  {
   "cell_type": "code",
   "execution_count": 53,
   "metadata": {},
   "outputs": [
    {
     "data": {
      "image/png": "[encoded data removed]",
      "text/plain": [
       "<Figure size 640x480 with 1 Axes>"
      ]
     },
     "metadata": {},
     "output_type": "display_data"
    }
   ],
   "source": [
    "plt.style.use('dark_background')\n",
    "plt.plot(history.history['accuracy'])\n",
    "plt.plot(history.history['val_accuracy'])\n",
    "\n",
    "plt.title('Model Accuracy')\n",
    "plt.ylabel('Accuracy')\n",
    "plt.xlabel('Epoch')\n",
    "plt.legend(['Training', 'Validation'], loc = 'lower right')\n",
    "plt.show()"
   ]
  },
  {
   "cell_type": "code",
   "execution_count": 54,
   "metadata": {},
   "outputs": [
    {
     "name": "stdout",
     "output_type": "stream",
     "text": [
      "(1, 90)\n",
      "1/1 [==============================] - 0s 369ms/step\n",
      "[[0. 0. 1.]]\n"
     ]
    }
   ],
   "source": [
    "def get_encode(x):\n",
    "  #x = clean_text(x)\n",
    "  x = tokenizer.texts_to_sequences(x)\n",
    "  x = tf.keras.preprocessing.sequence.pad_sequences(x, maxlen=max_length, padding='pre', truncating='pre')\n",
    "  return x\n",
    "\n",
    "test_comment = ['This movie depicted the current society issues so well, I loved it so much']\n",
    "\n",
    "seq = tokenizer.texts_to_sequences(test_comment)\n",
    "padded = pad_sequences(seq, maxlen=max_length, padding='pre', truncating='pre')\n",
    "print(padded.shape)\n",
    "y_pred = model.predict(padded).round()\n",
    "print(y_pred)"
   ]
  }
 ],
 "metadata": {
  "kernelspec": {
   "display_name": "Python 3",
   "language": "python",
   "name": "python3"
  },
  "language_info": {
   "codemirror_mode": {
    "name": "ipython",
    "version": 3
   },
   "file_extension": ".py",
   "mimetype": "text/x-python",
   "name": "python",
   "nbconvert_exporter": "python",
   "pygments_lexer": "ipython3",
   "version": "3.10.12"
  }
 },
 "nbformat": 4,
 "nbformat_minor": 2
}
